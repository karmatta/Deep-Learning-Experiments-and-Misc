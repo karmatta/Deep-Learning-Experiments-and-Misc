{
 "cells": [
  {
   "cell_type": "code",
   "execution_count": 1,
   "metadata": {},
   "outputs": [],
   "source": [
    "import tensorflow as tf\n",
    "import numpy as np\n",
    "import matplotlib.pyplot as ply"
   ]
  },
  {
   "cell_type": "code",
   "execution_count": 153,
   "metadata": {},
   "outputs": [
    {
     "data": {
      "text/plain": [
       "numpy.ndarray"
      ]
     },
     "execution_count": 153,
     "metadata": {},
     "output_type": "execute_result"
    }
   ],
   "source": [
    "a =np.array([[1,2,3],[3,5,1],[2,1,3]]).reshape((1,3,3,1))\n",
    "b =np.array([[1,2,3,4],[3,5,1,2],[2,1,3,1], [3,4,5,6]]).reshape((1,4,4,1))\n",
    "c =np.array([[1,2,3,4,5],[3,5,1,2,5],[2,1,3,1,6], [3,4,5,6,1], [3,1,4,2,4]]).reshape((1,5,5,1))\n",
    "d =np.array([[1,2,3,4,5,6,7],[3,5,1,2,5,2,5],[2,1,3,1,6,3,5], [3,4,5,6,1,1,3], [3,1,4,2,4,5,1], [2,4,5,1,6,7,2], [2,4,5,1,6,7,2]]).reshape((1,7,7,1))\n",
    "type(a)"
   ]
  },
  {
   "cell_type": "code",
   "execution_count": 173,
   "metadata": {},
   "outputs": [
    {
     "data": {
      "image/png": "[encoded data removed]",
      "text/plain": [
       "<matplotlib.figure.Figure at 0x7fd2d5378588>"
      ]
     },
     "metadata": {},
     "output_type": "display_data"
    }
   ],
   "source": [
    "ply.imshow(np.squeeze(d), cmap='gray')\n",
    "ply.show()"
   ]
  },
  {
   "cell_type": "code",
   "execution_count": 155,
   "metadata": {},
   "outputs": [],
   "source": [
    "kernel_dim = 3\n",
    "kernel =  np.random.random((kernel_dim, kernel_dim, 1, 1)).astype(np.float32)"
   ]
  },
  {
   "cell_type": "code",
   "execution_count": 174,
   "metadata": {},
   "outputs": [],
   "source": [
    "input_ = tf.placeholder(tf.float32, shape =[1,7,7,1], name ='input_')\n",
    "conv_a = tf.layers.conv2d(input_, 1, 3, 2, padding='same')\n",
    "deconv_a = tf.layers.conv2d_transpose(conv_a, 1, 1, 1, padding='SAME')\n",
    "dilatedconv_a = tf.nn.atrous_conv2d(input_, kernel, rate=2,  padding = 'VALID')"
   ]
  },
  {
   "cell_type": "code",
   "execution_count": 175,
   "metadata": {},
   "outputs": [
    {
     "name": "stdout",
     "output_type": "stream",
     "text": [
      "Tensor(\"conv2d_69/BiasAdd:0\", shape=(1, 4, 4, 1), dtype=float32)\n",
      "Tensor(\"conv2d_transpose_69/BiasAdd:0\", shape=(1, 4, 4, 1), dtype=float32)\n",
      "[[[[ 16.20954132]\n",
      "   [ 13.8498745 ]\n",
      "   [ 20.79474068]]\n",
      "\n",
      "  [[ 16.71504021]\n",
      "   [ 17.46207428]\n",
      "   [ 16.77530861]]\n",
      "\n",
      "  [[ 18.25014305]\n",
      "   [ 13.79406261]\n",
      "   [ 18.22554398]]]]\n"
     ]
    }
   ],
   "source": [
    "sess = tf.InteractiveSession()\n",
    "sess.run(tf.global_variables_initializer())\n",
    "conv_a_eval, deconv_a_eval, dilatedconv_a_eval = sess.run([conv_a, deconv_a, dilatedconv_a], feed_dict={input_:d})\n",
    "# print(conv_a_eval)\n",
    "# print(deconv_a_eval)\n",
    "print(conv_a)\n",
    "print(deconv_a)\n",
    "print(dilatedconv_a_eval)"
   ]
  },
  {
   "cell_type": "code",
   "execution_count": 15,
   "metadata": {},
   "outputs": [],
   "source": [
    "sess.close()"
   ]
  },
  {
   "cell_type": "code",
   "execution_count": 172,
   "metadata": {},
   "outputs": [
    {
     "data": {
      "image/png": "[encoded data removed]",
      "text/plain": [
       "<matplotlib.figure.Figure at 0x7fd2d5416978>"
      ]
     },
     "metadata": {},
     "output_type": "display_data"
    }
   ],
   "source": [
    "ply.imshow(np.squeeze(dilatedconv_a_eval), cmap='gray')\n",
    "ply.show()"
   ]
  },
  {
   "cell_type": "code",
   "execution_count": 117,
   "metadata": {},
   "outputs": [
    {
     "data": {
      "image/png": "[encoded data removed]",
      "text/plain": [
       "<matplotlib.figure.Figure at 0x7fd2d5f10358>"
      ]
     },
     "metadata": {},
     "output_type": "display_data"
    }
   ],
   "source": [
    "# convolved image\n",
    "ply.imshow(np.squeeze(conv_a_eval), cmap='gray')\n",
    "ply.show()"
   ]
  },
  {
   "cell_type": "code",
   "execution_count": 118,
   "metadata": {},
   "outputs": [
    {
     "data": {
      "image/png": "[encoded data removed]",
      "text/plain": [
       "<matplotlib.figure.Figure at 0x7fd2d5fa8208>"
      ]
     },
     "metadata": {},
     "output_type": "display_data"
    }
   ],
   "source": [
    "# convolution transpose operation\n",
    "ply.imshow(np.squeeze(deconv_a_eval),cmap='gray')\n",
    "ply.show()"
   ]
  },
  {
   "cell_type": "code",
   "execution_count": null,
   "metadata": {},
   "outputs": [],
   "source": []
  }
 ],
 "metadata": {
  "kernelspec": {
   "display_name": "Python 3",
   "language": "python",
   "name": "python3"
  },
  "language_info": {
   "codemirror_mode": {
    "name": "ipython",
    "version": 3
   },
   "file_extension": ".py",
   "mimetype": "text/x-python",
   "name": "python",
   "nbconvert_exporter": "python",
   "pygments_lexer": "ipython3",
   "version": "3.5.2"
  }
 },
 "nbformat": 4,
 "nbformat_minor": 2
}
