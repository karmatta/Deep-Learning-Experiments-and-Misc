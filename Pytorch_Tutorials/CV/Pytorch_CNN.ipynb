{
 "cells": [
  {
   "cell_type": "code",
   "execution_count": 2,
   "metadata": {},
   "outputs": [],
   "source": [
    "import torch as t\n",
    "import torchvision\n",
    "import torchvision.transforms as transforms\n",
    "import torch.nn as nn"
   ]
  },
  {
   "cell_type": "code",
   "execution_count": 3,
   "metadata": {},
   "outputs": [],
   "source": [
    "# Device configuration\n",
    "device = ('cuda' if t.cuda.is_available() else 'cpu')"
   ]
  },
  {
   "cell_type": "code",
   "execution_count": 4,
   "metadata": {},
   "outputs": [],
   "source": [
    "batch_size = 100\n",
    "num_epochs = 5\n",
    "learning_rate = 0.01\n",
    "num_classes = 10\n",
    "input_size = 784"
   ]
  },
  {
   "cell_type": "code",
   "execution_count": 5,
   "metadata": {},
   "outputs": [],
   "source": [
    "train_data = torchvision.datasets.MNIST(root=\"../../data/\",\n",
    "                                       train=True,\n",
    "                                       download=True,\n",
    "                                       transform=transforms.ToTensor())\n",
    "test_data = torchvision.datasets.MNIST(root=\"../../data/\",\n",
    "                                       train=False,\n",
    "                                       transform=transforms.ToTensor())"
   ]
  },
  {
   "cell_type": "code",
   "execution_count": 21,
   "metadata": {},
   "outputs": [],
   "source": [
    "train_loader = t.utils.data.DataLoader(dataset=train_data,\n",
    "                                      shuffle=True,\n",
    "                                      batch_size=batch_size)\n",
    "test_loader = t.utils.data.DataLoader(dataset=test_data,\n",
    "                                      shuffle=False,\n",
    "                                      batch_size=batch_size)"
   ]
  },
  {
   "cell_type": "code",
   "execution_count": 18,
   "metadata": {},
   "outputs": [],
   "source": [
    "# Convolutional neural network (two convolutional layers)\n",
    "class CNN(nn.Module):\n",
    "    def __init__(self, num_classes):\n",
    "        \n",
    "        super(CNN, self).__init__()\n",
    "        \n",
    "        self.layer1 = nn.Sequential(\n",
    "            nn.Conv2d(1, 16, kernel_size=5, stride=1, padding=2), #torch.nn.Conv2d(in_channels, out_channels, kernel_size, stride=1, padding=0, dilation=1, groups=1, bias=True)\n",
    "            nn.BatchNorm2d(16), #torch.nn.BatchNorm2d(num_features, eps=1e-05, momentum=0.1, affine=True, track_running_stats=True)\n",
    "            nn.ReLU(),\n",
    "            nn.MaxPool2d(kernel_size=2, stride=2), #torch.nn.MaxPool2d(kernel_size, stride=None, padding=0, dilation=1, return_indices=False, ceil_mode=False)\n",
    "        )\n",
    "        self.layer2 = nn.Sequential(\n",
    "            nn.Conv2d(16, 32, kernel_size=5, stride=1, padding=2),\n",
    "            nn.BatchNorm2d(32),\n",
    "            nn.ReLU(),\n",
    "            nn.MaxPool2d(kernel_size=2, stride=2)\n",
    "        )\n",
    "        self.fc1 = nn.Linear(7*7*32, num_classes)\n",
    "        \n",
    "    def forward(self, X):\n",
    "        out = self.layer1(X)\n",
    "        out = self.layer2(out)\n",
    "        out = out.reshape(out.size(0), -1)\n",
    "        out = self.fc1(out)\n",
    "        return(out)"
   ]
  },
  {
   "cell_type": "code",
   "execution_count": 19,
   "metadata": {},
   "outputs": [],
   "source": [
    "# Initilize model\n",
    "\n",
    "model = CNN(num_classes) # this is the same as CNN.forward()\n",
    "criterion = nn.CrossEntropyLoss()\n",
    "optimizer = t.optim.Adam(model.parameters(), lr=learning_rate)"
   ]
  },
  {
   "cell_type": "code",
   "execution_count": 22,
   "metadata": {},
   "outputs": [
    {
     "name": "stdout",
     "output_type": "stream",
     "text": [
      "Epoch [1/5], Step [100/600], Loss: 0.0898\n",
      "Epoch [1/5], Step [200/600], Loss: 0.1163\n",
      "Epoch [1/5], Step [300/600], Loss: 0.0429\n",
      "Epoch [1/5], Step [400/600], Loss: 0.0239\n",
      "Epoch [1/5], Step [500/600], Loss: 0.0131\n",
      "Epoch [1/5], Step [600/600], Loss: 0.0214\n",
      "Epoch [2/5], Step [100/600], Loss: 0.0236\n",
      "Epoch [2/5], Step [200/600], Loss: 0.0120\n",
      "Epoch [2/5], Step [300/600], Loss: 0.0351\n",
      "Epoch [2/5], Step [400/600], Loss: 0.0182\n",
      "Epoch [2/5], Step [500/600], Loss: 0.0163\n",
      "Epoch [2/5], Step [600/600], Loss: 0.0017\n",
      "Epoch [3/5], Step [100/600], Loss: 0.0454\n",
      "Epoch [3/5], Step [200/600], Loss: 0.0187\n",
      "Epoch [3/5], Step [300/600], Loss: 0.0081\n",
      "Epoch [3/5], Step [400/600], Loss: 0.0221\n",
      "Epoch [3/5], Step [500/600], Loss: 0.0056\n",
      "Epoch [3/5], Step [600/600], Loss: 0.0078\n",
      "Epoch [4/5], Step [100/600], Loss: 0.0033\n",
      "Epoch [4/5], Step [200/600], Loss: 0.0156\n",
      "Epoch [4/5], Step [300/600], Loss: 0.0003\n",
      "Epoch [4/5], Step [400/600], Loss: 0.0023\n",
      "Epoch [4/5], Step [500/600], Loss: 0.0203\n",
      "Epoch [4/5], Step [600/600], Loss: 0.0066\n",
      "Epoch [5/5], Step [100/600], Loss: 0.0366\n",
      "Epoch [5/5], Step [200/600], Loss: 0.0356\n",
      "Epoch [5/5], Step [300/600], Loss: 0.0052\n",
      "Epoch [5/5], Step [400/600], Loss: 0.0090\n",
      "Epoch [5/5], Step [500/600], Loss: 0.0197\n",
      "Epoch [5/5], Step [600/600], Loss: 0.0887\n"
     ]
    }
   ],
   "source": [
    "# Train model\n",
    "total_step = len(train_loader)\n",
    "for epoch in range(num_epochs):\n",
    "    for i, (imgs, labels) in enumerate(train_loader):\n",
    "        imgs = imgs.to(device)\n",
    "        labels = labels.to(device)\n",
    "        \n",
    "        pred = model(imgs)\n",
    "        \n",
    "        loss = criterion(pred, labels)\n",
    "        \n",
    "        optimizer.zero_grad()\n",
    "        loss.backward()\n",
    "        optimizer.step()\n",
    "        \n",
    "        if (i+1) % 100 == 0:\n",
    "            print ('Epoch [{}/{}], Step [{}/{}], Loss: {:.4f}'.format(epoch+1, num_epochs, i+1, total_step, loss.item()))"
   ]
  },
  {
   "cell_type": "code",
   "execution_count": 24,
   "metadata": {},
   "outputs": [
    {
     "name": "stdout",
     "output_type": "stream",
     "text": [
      "Test Accuracy of the model on the 10000 test images: 99.18 %\n"
     ]
    }
   ],
   "source": [
    "# Test Model\n",
    "model.eval() # eval mode (batchnorm uses moving mean/variance instead of mini-batch mean/variance)\n",
    "with t.no_grad():\n",
    "    total = correct = 0\n",
    "    for i , (images, labels) in enumerate(test_loader):\n",
    "        images = images.to(device)\n",
    "        labels = labels.to(device)\n",
    "    \n",
    "        outputs = model(images)\n",
    "        _, predicted = t.max(outputs.data, 1)\n",
    "        \n",
    "        total += labels.size(0)\n",
    "        correct+= (predicted == labels).sum().item()\n",
    "        \n",
    "    print('Test Accuracy of the model on the 10000 test images: {} %'.format(100 * correct / total))\n",
    "    \n",
    "t.save(model.state_dict(), \"CNN.ckpt\")"
   ]
  }
 ],
 "metadata": {
  "kernelspec": {
   "display_name": "Python 3",
   "language": "python",
   "name": "python3"
  },
  "language_info": {
   "codemirror_mode": {
    "name": "ipython",
    "version": 3
   },
   "file_extension": ".py",
   "mimetype": "text/x-python",
   "name": "python",
   "nbconvert_exporter": "python",
   "pygments_lexer": "ipython3",
   "version": "3.6.5"
  }
 },
 "nbformat": 4,
 "nbformat_minor": 2
}
