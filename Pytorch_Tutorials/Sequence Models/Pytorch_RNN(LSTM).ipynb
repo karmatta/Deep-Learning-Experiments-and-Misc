{
 "cells": [
  {
   "cell_type": "code",
   "execution_count": 1,
   "metadata": {},
   "outputs": [],
   "source": [
    "import torch\n",
    "import torch.nn as nn\n",
    "import torchvision\n",
    "import torchvision.transforms as transforms"
   ]
  },
  {
   "cell_type": "code",
   "execution_count": 2,
   "metadata": {},
   "outputs": [],
   "source": [
    "device = torch.device('cuda' if torch.cuda.is_available() else \"cpu\")"
   ]
  },
  {
   "cell_type": "code",
   "execution_count": 3,
   "metadata": {},
   "outputs": [],
   "source": [
    "# Hyperparameters\n",
    "sequence_length = 28\n",
    "input_size = 28 # The number of expected features in the input x\n",
    "num_layers = 2 # Number of recurrent layers. E.g., setting num_layers=2 would mean stacking two LSTMs together to form a stacked LSTM, with the second LSTM taking in outputs of the first LSTM and computing the final results. Default: 1\n",
    "hidden_size = 128 #T he number of features in the hidden state h\n",
    "num_epochs = 5\n",
    "num_classes = 10\n",
    "learning_rate = 0.01\n",
    "batch_size = 100"
   ]
  },
  {
   "cell_type": "code",
   "execution_count": 4,
   "metadata": {},
   "outputs": [
    {
     "name": "stdout",
     "output_type": "stream",
     "text": [
      "Downloading http://yann.lecun.com/exdb/mnist/train-images-idx3-ubyte.gz\n",
      "Downloading http://yann.lecun.com/exdb/mnist/train-labels-idx1-ubyte.gz\n",
      "Downloading http://yann.lecun.com/exdb/mnist/t10k-images-idx3-ubyte.gz\n",
      "Downloading http://yann.lecun.com/exdb/mnist/t10k-labels-idx1-ubyte.gz\n",
      "Processing...\n",
      "Done!\n"
     ]
    }
   ],
   "source": [
    "train_data = torchvision.datasets.MNIST(root = \"../../data/\",\n",
    "                                       train=True,\n",
    "                                    download=True,\n",
    "                                       transform=transforms.ToTensor())\n",
    "test_data = torchvision.datasets.MNIST(root = \"../../data/\",\n",
    "                                       train=False,\n",
    "                                       transform=transforms.ToTensor())"
   ]
  },
  {
   "cell_type": "code",
   "execution_count": 5,
   "metadata": {},
   "outputs": [],
   "source": [
    "train_loader = torch.utils.data.DataLoader(dataset=train_data,\n",
    "                                          shuffle=True,\n",
    "                                          batch_size=batch_size)\n",
    "test_loader = torch.utils.data.DataLoader(dataset=test_data,\n",
    "                                               shuffle=True,\n",
    "                                               batch_size=batch_size)"
   ]
  },
  {
   "cell_type": "code",
   "execution_count": 6,
   "metadata": {},
   "outputs": [],
   "source": [
    "# Recurrent neural network (many-to-one)\n",
    "class RNN(nn.Module):\n",
    "    \n",
    "    def __init__(self, input_size, hidden_size, num_layers, num_classes):\n",
    "        super(RNN, self).__init__()\n",
    "        self.hidden_size = hidden_size\n",
    "        self.num_layers = num_layers\n",
    "        self.lstm = nn.LSTM(input_size=input_size, hidden_size=hidden_size, num_layers=num_layers, batch_first=True) \n",
    "        # batch_first – If True, then the input and output tensors are provided as (batch, seq, feature). Default: False\n",
    "        self.fc = nn.Linear(hidden_size, num_classes)\n",
    "        \n",
    "    def forward(self, x):\n",
    "        # Set initial hidden and cell states \n",
    "        h0 = torch.zeros(self.num_layers, x.size(0), self.hidden_size).to(device) # (num_layers, batch, hidden_size)\n",
    "        c0 = torch.zeros(self.num_layers, x.size(0), self.hidden_size).to(device) # (num_layers, batch, hidden_size)\n",
    "            \n",
    "        # Forward propagate LSTM\n",
    "        out, (hn, cn) = self.lstm(x, (h0, c0)) # out: tensor of shape (seq_len, batch, hidden_size)\n",
    "        \n",
    "        # Decode the hidden state of the last time step\n",
    "        out = self.fc(out[:, -1, :])\n",
    "        \n",
    "        return(out)           "
   ]
  },
  {
   "cell_type": "code",
   "execution_count": 7,
   "metadata": {},
   "outputs": [],
   "source": [
    "model = RNN(input_size, hidden_size, num_layers, num_classes) \n",
    "criterion = nn.CrossEntropyLoss()\n",
    "optimizer = torch.optim.Adam(model.parameters(), lr=learning_rate)"
   ]
  },
  {
   "cell_type": "code",
   "execution_count": 22,
   "metadata": {},
   "outputs": [
    {
     "name": "stdout",
     "output_type": "stream",
     "text": [
      "Input size: torch.Size([100, 28, 28])\n",
      "Output size: torch.Size([100, 10])\n",
      "torch.Size([100])\n",
      "tensor(9)\n"
     ]
    }
   ],
   "source": [
    " for i, (imgs, labels) in enumerate(train_loader):\n",
    "    imgs = imgs.reshape(-1, sequence_length, input_size).to(device)\n",
    "    labels = labels.to(device)\n",
    "    print(\"Input size: \" + str(imgs.size()))\n",
    "    outputs = model(imgs)\n",
    "    print(\"Output size: \" + str(outputs.size()))\n",
    "    x, pred = torch.max(outputs.data, 1)\n",
    "    print(x.size())\n",
    "    print(pred[0])\n",
    "    \n",
    "    break"
   ]
  },
  {
   "cell_type": "code",
   "execution_count": 31,
   "metadata": {},
   "outputs": [
    {
     "name": "stdout",
     "output_type": "stream",
     "text": [
      "torch.Size([28, 100, 128])\n",
      "torch.Size([2, 100, 128])\n",
      "torch.Size([28, 128])\n"
     ]
    }
   ],
   "source": [
    "# Another Example\n",
    "\n",
    "rnn = nn.LSTM(28, 128, 2) # (input_size, hidden_size, num_layers)\n",
    "input = torch.randn(28, 100, 28) # (seq_len, batch, input_size)\n",
    "h0 = torch.randn(2, 100, 128) # (num_layers, batch, hidden_size)\n",
    "c0 = torch.randn(2, 100, 128) # (num_layers, batch, hidden_size)\n",
    "output, (hn, cn) = rnn(input, (h0, c0)) \n",
    "print(output.size()) # (seq_len, batch, hidden_size)\n",
    "print(hn.size())     # (num_layers, batch, hidden_size)\n",
    "print(output[:, -1, :].size())"
   ]
  },
  {
   "cell_type": "code",
   "execution_count": 52,
   "metadata": {},
   "outputs": [
    {
     "name": "stdout",
     "output_type": "stream",
     "text": [
      "Epoch [1/5], Step [100/600], Loss: 0.6404\n",
      "Epoch [1/5], Step [200/600], Loss: 0.1939\n",
      "Epoch [1/5], Step [300/600], Loss: 0.2997\n",
      "Epoch [1/5], Step [400/600], Loss: 0.0978\n",
      "Epoch [1/5], Step [500/600], Loss: 0.0570\n",
      "Epoch [1/5], Step [600/600], Loss: 0.0698\n",
      "Epoch [2/5], Step [100/600], Loss: 0.1266\n",
      "Epoch [2/5], Step [200/600], Loss: 0.0626\n",
      "Epoch [2/5], Step [300/600], Loss: 0.0210\n",
      "Epoch [2/5], Step [400/600], Loss: 0.1645\n",
      "Epoch [2/5], Step [500/600], Loss: 0.0315\n",
      "Epoch [2/5], Step [600/600], Loss: 0.0647\n",
      "Epoch [3/5], Step [100/600], Loss: 0.0985\n",
      "Epoch [3/5], Step [200/600], Loss: 0.1182\n",
      "Epoch [3/5], Step [300/600], Loss: 0.0924\n",
      "Epoch [3/5], Step [400/600], Loss: 0.0480\n",
      "Epoch [3/5], Step [500/600], Loss: 0.1606\n",
      "Epoch [3/5], Step [600/600], Loss: 0.0337\n",
      "Epoch [4/5], Step [100/600], Loss: 0.0194\n",
      "Epoch [4/5], Step [200/600], Loss: 0.1031\n",
      "Epoch [4/5], Step [300/600], Loss: 0.0674\n",
      "Epoch [4/5], Step [400/600], Loss: 0.1979\n",
      "Epoch [4/5], Step [500/600], Loss: 0.0215\n",
      "Epoch [4/5], Step [600/600], Loss: 0.0560\n",
      "Epoch [5/5], Step [100/600], Loss: 0.0470\n",
      "Epoch [5/5], Step [200/600], Loss: 0.0196\n",
      "Epoch [5/5], Step [300/600], Loss: 0.0131\n",
      "Epoch [5/5], Step [400/600], Loss: 0.1595\n",
      "Epoch [5/5], Step [500/600], Loss: 0.0114\n",
      "Epoch [5/5], Step [600/600], Loss: 0.0579\n"
     ]
    }
   ],
   "source": [
    "# Train the model\n",
    "total_step = len(train_loader) # Number of batches\n",
    "for epoch in range(num_epochs):\n",
    "    for i, (imgs, labels) in enumerate(train_loader):\n",
    "        imgs = imgs.reshape(-1, sequence_length, input_size).to(device)\n",
    "        labels = labels.to(device)\n",
    "        \n",
    "        # Forward pass\n",
    "        pred = model(imgs)\n",
    "        loss = criterion(pred, labels)\n",
    "        \n",
    "        optimizer.zero_grad()\n",
    "        loss.backward()\n",
    "        optimizer.step()\n",
    "        \n",
    "        if (i+1) % 100 == 0:\n",
    "            print ('Epoch [{}/{}], Step [{}/{}], Loss: {:.4f}'.format(epoch+1, num_epochs, i+1, total_step, loss.item()))"
   ]
  },
  {
   "cell_type": "code",
   "execution_count": 56,
   "metadata": {},
   "outputs": [
    {
     "name": "stdout",
     "output_type": "stream",
     "text": [
      "Test Accuracy of the model on the 10000 test images: 98 %\n"
     ]
    }
   ],
   "source": [
    "# Test model\n",
    "with torch.no_grad():\n",
    "    total = correct = 0\n",
    "    \n",
    "    for i, (imgs, labels) in enumerate(test_loader):\n",
    "        imgs = imgs.reshape(-1, sequence_length, input_size).to(device)\n",
    "        labels = labels.to(device)\n",
    "        \n",
    "        outputs = model(imgs)\n",
    "        _, pred = torch.max(outputs.data, 1) # Returns (Value, index)\n",
    "        \n",
    "        total += labels.size(0)\n",
    "        correct += (pred == labels).sum(0)\n",
    "        \n",
    "print('Test Accuracy of the model on the 10000 test images: {} %'.format(100 * correct / total)) "
   ]
  },
  {
   "cell_type": "code",
   "execution_count": null,
   "metadata": {},
   "outputs": [],
   "source": [
    "torch.save(model.state_dict(), \"RNN.ckpt\")"
   ]
  }
 ],
 "metadata": {
  "kernelspec": {
   "display_name": "Python 3",
   "language": "python",
   "name": "python3"
  },
  "language_info": {
   "codemirror_mode": {
    "name": "ipython",
    "version": 3
   },
   "file_extension": ".py",
   "mimetype": "text/x-python",
   "name": "python",
   "nbconvert_exporter": "python",
   "pygments_lexer": "ipython3",
   "version": "3.6.5"
  }
 },
 "nbformat": 4,
 "nbformat_minor": 2
}
