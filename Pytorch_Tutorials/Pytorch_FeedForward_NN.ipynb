{
 "cells": [
  {
   "cell_type": "code",
   "execution_count": 1,
   "metadata": {},
   "outputs": [],
   "source": [
    "import torch as t\n",
    "import torchvision\n",
    "import torch.nn as nn\n",
    "import torchvision.transforms as transforms"
   ]
  },
  {
   "cell_type": "code",
   "execution_count": 10,
   "metadata": {},
   "outputs": [],
   "source": [
    "# Device configuration\n",
    "device = t.device('cuda' if t.cuda.is_available() else 'cpu')"
   ]
  },
  {
   "cell_type": "code",
   "execution_count": 11,
   "metadata": {},
   "outputs": [],
   "source": [
    "input_size = 784\n",
    "hidden_size = 500\n",
    "batch_size = 64\n",
    "num_epochs = 5\n",
    "learning_rate = 0.01\n",
    "num_classes = 10"
   ]
  },
  {
   "cell_type": "code",
   "execution_count": 5,
   "metadata": {},
   "outputs": [],
   "source": [
    "train_dataset = torchvision.datasets.MNIST(root='../../data/',\n",
    "                                           download=True,\n",
    "                                           transform=transforms.ToTensor(),\n",
    "                                           train=True)\n",
    "\n",
    "test_dataset = torchvision.datasets.MNIST(root='../../data/',\n",
    "                                           transform=transforms.ToTensor(),\n",
    "                                           train=False)"
   ]
  },
  {
   "cell_type": "code",
   "execution_count": 6,
   "metadata": {},
   "outputs": [],
   "source": [
    "train_loader = t.utils.data.DataLoader(dataset=train_dataset,\n",
    "                                      shuffle=True,\n",
    "                                      batch_size=batch_size)\n",
    "test_loader = t.utils.data.DataLoader(dataset=test_dataset,\n",
    "                                      shuffle=True,\n",
    "                                      batch_size=batch_size)"
   ]
  },
  {
   "cell_type": "code",
   "execution_count": 28,
   "metadata": {},
   "outputs": [],
   "source": [
    "# Feed Forward NN\n",
    "# Fully connected neural network with one hidden layer\n",
    "\n",
    "class FF_NN(nn.Module):\n",
    "    def __init__(self, input_size, hidden_size, num_classes):\n",
    "        super(FF_NN, self).__init__()\n",
    "        self.fc1 = nn.Linear(input_size, hidden_size)\n",
    "        self.relu1 = nn.ReLU()\n",
    "        self.fc2 = nn.Linear(hidden_size, num_classes)\n",
    "        \n",
    "    # Forward\n",
    "    def forward(self, X):\n",
    "        out = self.fc1(X)\n",
    "        out = self.relu1(out)\n",
    "        out = self.fc2(out)\n",
    "        return(out)           "
   ]
  },
  {
   "cell_type": "code",
   "execution_count": 29,
   "metadata": {},
   "outputs": [],
   "source": [
    "model = FF_NN(input_size, hidden_size, num_classes).to(device)\n",
    "criterion = nn.CrossEntropyLoss()\n",
    "optimizer = t.optim.Adam(model.parameters(), lr=learning_rate)"
   ]
  },
  {
   "cell_type": "code",
   "execution_count": 30,
   "metadata": {
    "collapsed": true
   },
   "outputs": [
    {
     "name": "stdout",
     "output_type": "stream",
     "text": [
      "Epoch [1/5], Step [100/600], Loss: 0.2501\n",
      "Epoch [1/5], Step [200/600], Loss: 0.3223\n",
      "Epoch [1/5], Step [300/600], Loss: 0.2263\n",
      "Epoch [1/5], Step [400/600], Loss: 0.0795\n",
      "Epoch [1/5], Step [500/600], Loss: 0.1081\n",
      "Epoch [1/5], Step [600/600], Loss: 0.1786\n",
      "Epoch [2/5], Step [100/600], Loss: 0.0752\n",
      "Epoch [2/5], Step [200/600], Loss: 0.0563\n",
      "Epoch [2/5], Step [300/600], Loss: 0.4314\n",
      "Epoch [2/5], Step [400/600], Loss: 0.0549\n",
      "Epoch [2/5], Step [500/600], Loss: 0.2403\n",
      "Epoch [2/5], Step [600/600], Loss: 0.0369\n",
      "Epoch [3/5], Step [100/600], Loss: 0.0037\n",
      "Epoch [3/5], Step [200/600], Loss: 0.0294\n",
      "Epoch [3/5], Step [300/600], Loss: 0.1528\n",
      "Epoch [3/5], Step [400/600], Loss: 0.0752\n",
      "Epoch [3/5], Step [500/600], Loss: 0.1525\n",
      "Epoch [3/5], Step [600/600], Loss: 0.0206\n",
      "Epoch [4/5], Step [100/600], Loss: 0.0182\n",
      "Epoch [4/5], Step [200/600], Loss: 0.0343\n",
      "Epoch [4/5], Step [300/600], Loss: 0.2521\n",
      "Epoch [4/5], Step [400/600], Loss: 0.2178\n",
      "Epoch [4/5], Step [500/600], Loss: 0.2209\n",
      "Epoch [4/5], Step [600/600], Loss: 0.0619\n",
      "Epoch [5/5], Step [100/600], Loss: 0.0486\n",
      "Epoch [5/5], Step [200/600], Loss: 0.1053\n",
      "Epoch [5/5], Step [300/600], Loss: 0.1504\n",
      "Epoch [5/5], Step [400/600], Loss: 0.0156\n",
      "Epoch [5/5], Step [500/600], Loss: 0.1256\n",
      "Epoch [5/5], Step [600/600], Loss: 0.1383\n"
     ]
    }
   ],
   "source": [
    "# Train the model\n",
    "total_step = len(train_loader)\n",
    "for epoch in range(num_epochs):\n",
    "    for i, (images, labels) in enumerate(train_loader):\n",
    "        images = images.reshape(-1, 28*28).to(device)\n",
    "        labels = labels.to(device)\n",
    "        \n",
    "        predict = model(images)\n",
    "        loss = criterion(predict, labels)\n",
    "        \n",
    "        # Backward pass\n",
    "        optimizer.zero_grad() # set the gradients to zero\n",
    "        loss.backward()\n",
    "        optimizer.step() # update parameters\n",
    "        \n",
    "        if (i+1) % 100 == 0:\n",
    "            print ('Epoch [{}/{}], Step [{}/{}], Loss: {:.4f}'.format(epoch+1, num_epochs, i+1, total_step, loss.item()))"
   ]
  },
  {
   "cell_type": "code",
   "execution_count": 34,
   "metadata": {},
   "outputs": [
    {
     "name": "stdout",
     "output_type": "stream",
     "text": [
      "Test Accuracy:96.89999999999999%\n"
     ]
    }
   ],
   "source": [
    "# Test the model\n",
    "with t.no_grad():\n",
    "    total = 0\n",
    "    correct = 0\n",
    "    for i, (images,labels) in enumerate(test_loader):\n",
    "        images = images.reshape(-1, 28*28)\n",
    "        pred = model(images)\n",
    "        _, predicted = t.max(pred.data, 1)\n",
    "        total += labels.size(0)\n",
    "        correct += (predicted == labels).sum().item()\n",
    "        \n",
    "    print(\"Test Accuracy:{}%\".format(100*(correct/total)))"
   ]
  },
  {
   "cell_type": "code",
   "execution_count": 35,
   "metadata": {},
   "outputs": [],
   "source": [
    "# Save the model\n",
    "t.save(model.state_dict(), \"FF_NN.ckpt\")"
   ]
  }
 ],
 "metadata": {
  "kernelspec": {
   "display_name": "Python 3",
   "language": "python",
   "name": "python3"
  },
  "language_info": {
   "codemirror_mode": {
    "name": "ipython",
    "version": 3
   },
   "file_extension": ".py",
   "mimetype": "text/x-python",
   "name": "python",
   "nbconvert_exporter": "python",
   "pygments_lexer": "ipython3",
   "version": "3.6.5"
  }
 },
 "nbformat": 4,
 "nbformat_minor": 2
}
