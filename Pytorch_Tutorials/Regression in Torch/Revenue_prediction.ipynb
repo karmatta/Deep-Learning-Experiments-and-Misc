{
 "cells": [
  {
   "cell_type": "code",
   "execution_count": 1,
   "metadata": {},
   "outputs": [
    {
     "data": {
      "text/plain": [
       "device(type='cpu')"
      ]
     },
     "execution_count": 1,
     "metadata": {},
     "output_type": "execute_result"
    }
   ],
   "source": [
    "# Feed Forward NN\n",
    "# Fully connected neural network with two hidden layers\n",
    "# Author: Karthik D\n",
    "\n",
    "#Importing Libraries for computation and plotting graph\n",
    "import numpy as np \n",
    "import matplotlib.pyplot as plt\n",
    "import pandas as pd\n",
    "from sklearn.preprocessing import StandardScaler \n",
    "import torch as t\n",
    "import torchvision\n",
    "import torch.nn as nn\n",
    "#from torch.utils import data\n",
    "import torch.utils.data as data_utils\n",
    "import torch\n",
    "import hiddenlayer as hl\n",
    "\n",
    "# Device configuration\n",
    "device = t.device('cuda' if t.cuda.is_available() else 'cpu')\n",
    "device"
   ]
  },
  {
   "cell_type": "markdown",
   "metadata": {},
   "source": [
    "# Data prep & Feature Engineering"
   ]
  },
  {
   "cell_type": "code",
   "execution_count": 130,
   "metadata": {},
   "outputs": [
    {
     "name": "stdout",
     "output_type": "stream",
     "text": [
      "2\n"
     ]
    }
   ],
   "source": [
    "import json\n",
    "\n",
    "def is_JSON(js):\n",
    "    try:\n",
    "        js = js.replace(\"\\'\", \"\\\"\")\n",
    "        jsList = json.loads(js)\n",
    "    except:\n",
    "        return False\n",
    "    return True\n",
    "\n",
    "def get_fields_from_JSON(js, field, suf):\n",
    "    suf = \"_\" + suf\n",
    "    if js is None:\n",
    "        return \"NA\"+suf\n",
    "    if(is_JSON(js)):\n",
    "        js = js.replace(\"\\'\", \"\\\"\")\n",
    "        jsDict = json.loads(js)[0]\n",
    "        field = jsDict.get(field, \"NA\")+suf\n",
    "        return field\n",
    "    return \"NA\"+ suf\n",
    "        \n",
    "    \n",
    "df = pd.read_csv(\"data.csv\")\n",
    "df = df.drop(\"id\", 1).drop(\"belongs_to_collection\", 1).drop(\"tagline\", 1).drop(\"overview\", 1).drop(\"original_title\", 1).drop(\"homepage\",1).drop(\"imdb_id\", 1).drop(\"poster_path\", 1).drop(\"title\", 1).drop(\"crew\", 1)\n",
    "\n",
    "# One-hot encoding of features\n",
    "df = df.join(pd.get_dummies(df[\"original_language\"])).drop(\"original_language\", 1)\n",
    "df = df.join(pd.get_dummies(df['status'])).drop(\"status\", 1)\n",
    "df['release_month'] = [row[0] for row in df.release_date.str.split(\"/\")]\n",
    "df = df.join(pd.get_dummies(df[\"release_month\"])).drop(\"release_month\", 1).drop(\"release_date\", 1)\n",
    "df = df.join(pd.get_dummies(df.production_countries.apply(get_fields_from_JSON, args=[\"name\", \"cntry\"]))).drop(\"production_countries\", 1)\n",
    "df = df.join(pd.get_dummies(df.production_companies.apply(get_fields_from_JSON, args=[\"name\", \"cmpny\"]))).drop(\"production_companies\", 1)\n",
    "df = df.join(pd.get_dummies(df.genres.apply(get_fields_from_JSON, args=[\"name\", \"\"]))).drop(\"genres\", 1)\n",
    "df = df.join(pd.get_dummies(df.spoken_languages.apply(get_fields_from_JSON, args=[\"name\", \"_spk\"]))).drop(\"spoken_languages\", 1)\n",
    "df = df.drop(\"Keywords\", 1).drop(\"cast\", 1)"
   ]
  },
  {
   "cell_type": "markdown",
   "metadata": {},
   "source": [
    "# Train-Test split"
   ]
  },
  {
   "cell_type": "code",
   "execution_count": 132,
   "metadata": {},
   "outputs": [
    {
     "name": "stdout",
     "output_type": "stream",
     "text": [
      "(2407, 1232)\n"
     ]
    },
    {
     "name": "stderr",
     "output_type": "stream",
     "text": [
      "/home/karthik/anaconda3/lib/python3.6/site-packages/sklearn/preprocessing/data.py:645: DataConversionWarning: Data with input dtype uint8, int64, float64 were all converted to float64 by StandardScaler.\n",
      "  return self.partial_fit(X, y)\n",
      "/home/karthik/anaconda3/lib/python3.6/site-packages/sklearn/base.py:464: DataConversionWarning: Data with input dtype uint8, int64, float64 were all converted to float64 by StandardScaler.\n",
      "  return self.fit(X, **fit_params).transform(X)\n",
      "/home/karthik/anaconda3/lib/python3.6/site-packages/sklearn/preprocessing/data.py:645: DataConversionWarning: Data with input dtype uint8, int64, float64 were all converted to float64 by StandardScaler.\n",
      "  return self.partial_fit(X, y)\n",
      "/home/karthik/anaconda3/lib/python3.6/site-packages/sklearn/base.py:464: DataConversionWarning: Data with input dtype uint8, int64, float64 were all converted to float64 by StandardScaler.\n",
      "  return self.fit(X, **fit_params).transform(X)\n"
     ]
    },
    {
     "data": {
      "text/plain": [
       "(591, 1232)"
      ]
     },
     "execution_count": 132,
     "metadata": {},
     "output_type": "execute_result"
    }
   ],
   "source": [
    "def train_test_split(df, perc):\n",
    "    msk = np.random.rand(len(df)) < perc\n",
    "    train = df[msk]\n",
    "    test = df[~msk]\n",
    "    return train, test\n",
    "\n",
    "dev_df = df\n",
    "dev_df = dev_df.dropna()\n",
    "\n",
    "train, test = train_test_split(dev_df, 0.8)\n",
    "\n",
    "train_y = train.revenue\n",
    "train_x = train.drop(\"revenue\", 1)\n",
    "\n",
    "test_y = test.revenue\n",
    "test_x = test.drop(\"revenue\", 1)\n",
    "\n",
    "sc = StandardScaler()\n",
    "train_x_scaled = sc.fit_transform(train_x)\n",
    "test_x_scaled = sc.fit_transform(test_x)\n",
    "\n",
    "print(train_x_scaled.shape); test_x_scaled.shape"
   ]
  },
  {
   "cell_type": "markdown",
   "metadata": {},
   "source": [
    "# Convert Raw data to Torch Tensors and Data Loaders"
   ]
  },
  {
   "cell_type": "code",
   "execution_count": 133,
   "metadata": {},
   "outputs": [],
   "source": [
    "# creating tensor from targets_df \n",
    "train_y = torch.Tensor(np.array(train_y))\n",
    "test_y = torch.Tensor(np.array(test_y))\n",
    "\n",
    "train_x = torch.Tensor(np.array(train_x_scaled))\n",
    "test_x = torch.Tensor(np.array(test_x_scaled))\n",
    "\n",
    "train_dataset = data_utils.TensorDataset(train_x, train_y)\n",
    "test_dataset = data_utils.TensorDataset(test_x, test_y)"
   ]
  },
  {
   "cell_type": "code",
   "execution_count": 140,
   "metadata": {},
   "outputs": [],
   "source": [
    "batch_size = 128\n",
    "\n",
    "train_loader = t.utils.data.DataLoader(dataset=train_dataset,\n",
    "                                      shuffle=True,\n",
    "                                      batch_size=batch_size)\n",
    "test_loader = t.utils.data.DataLoader(dataset=test_dataset,\n",
    "                                      shuffle=True,\n",
    "                                      batch_size=batch_size)"
   ]
  },
  {
   "cell_type": "markdown",
   "metadata": {},
   "source": [
    "# Define Network Hyperparameters"
   ]
  },
  {
   "cell_type": "code",
   "execution_count": 162,
   "metadata": {},
   "outputs": [],
   "source": [
    "# hyperparameters\n",
    "input_size = train_x.shape[1]\n",
    "hidden_size1 = 5000\n",
    "hidden_size2 = 300\n",
    "num_epochs = 600\n",
    "learning_rate = 0.01"
   ]
  },
  {
   "cell_type": "markdown",
   "metadata": {},
   "source": [
    "# Define Model Architecture"
   ]
  },
  {
   "cell_type": "code",
   "execution_count": 165,
   "metadata": {},
   "outputs": [],
   "source": [
    "class MLP(nn.Module):\n",
    "    def __init__(self, input_size, hidden_size):\n",
    "        super(MLP, self).__init__()\n",
    "        self.fc1 = nn.Linear(input_size, hidden_size)\n",
    "        self.dropout1 = nn.Dropout2d(0.4)\n",
    "        self.relu1 = nn.ReLU()\n",
    "        self.fc2 = nn.Linear(hidden_size1, hidden_size2)\n",
    "        self.dropout2 = nn.Dropout2d(0.3)\n",
    "        self.relu2 = nn.ReLU()\n",
    "        self.fc3 = nn.Linear(hidden_size2, 1)\n",
    "        \n",
    "    # Forward\n",
    "    def forward(self, X):\n",
    "        out = self.fc1(X)\n",
    "        out = self.relu1(out)\n",
    "        out = self.dropout1(out)\n",
    "        out = self.fc2(out)\n",
    "        out = self.relu2(out)\n",
    "        out = self.dropout2(out)\n",
    "        out = self.fc3(out)\n",
    "        return(out)"
   ]
  },
  {
   "cell_type": "markdown",
   "metadata": {},
   "source": [
    "# Train Model"
   ]
  },
  {
   "cell_type": "code",
   "execution_count": 166,
   "metadata": {},
   "outputs": [
    {
     "data": {
      "image/png": "[encoded data removed]",
      "text/plain": [
       "<Figure size 864x288 with 1 Axes>"
      ]
     },
     "metadata": {},
     "output_type": "display_data"
    },
    {
     "name": "stdout",
     "output_type": "stream",
     "text": [
      "Epoch [600/600], Step [19/19], RMSLE Loss: 2.9737\n"
     ]
    }
   ],
   "source": [
    "def rmse(predictions, targets):\n",
    "    return torch.sqrt(torch.mean((predictions - targets) ** 2))\n",
    "\n",
    "def rmsle(y,yp):\n",
    "    y1 = y\n",
    "    y1[y1<0] = 0\n",
    "    return rmse(torch.log1p(y1),torch.log1p(yp)) \n",
    "\n",
    "def train_MLP(train_loader):\n",
    "    \n",
    "    # A History object to store metrics\n",
    "    history = hl.History()\n",
    "    # A Canvas object to draw the metrics\n",
    "    canvas = hl.Canvas()\n",
    "    step = sum_loss = 0\n",
    "    \n",
    "    # instantiate model\n",
    "    model = MLP(input_size, hidden_size).to(device)\n",
    "    # assign loss criterion\n",
    "    criterion = rmsle\n",
    "    # Define optimizer\n",
    "    optimizer = t.optim.Adam(model.parameters(), lr=learning_rate)\n",
    "    # Train the model\n",
    "    total_step = len(train_loader)\n",
    "    for epoch in range(num_epochs):\n",
    "        for i, (x, y) in enumerate(train_loader):\n",
    "            step += 1\n",
    "\n",
    "            x = x.to(device)\n",
    "            y = y.to(device)\n",
    "            \n",
    "            predict = model(x)\n",
    "            loss = criterion(predict, y)\n",
    "            # Backward pass\n",
    "            optimizer.zero_grad() # set the gradients to zero\n",
    "            loss.backward()\n",
    "            #torch.nn.utils.clip_grad_norm_(model.parameters(), 1)\n",
    "            optimizer.step() # update parameters\n",
    "            sum_loss += loss.item()\n",
    "            avg_loss = sum_loss/step\n",
    "            \n",
    "            if(step % 100 == 0 ):\n",
    "                history.log(step, RMSLEloss=avg_loss)\n",
    "                # Plot the two metrics in one graph\n",
    "                canvas.draw_plot([history['RMSLEloss']])\n",
    "            \n",
    "            print ('Epoch [{}/{}], Step [{}/{}], RMSLE Loss: {:.4f}'.format(epoch+1, num_epochs, i+1, total_step, loss.item()))\n",
    "    return model\n",
    "     \n",
    "mlp = train_MLP(train_loader)"
   ]
  },
  {
   "cell_type": "markdown",
   "metadata": {},
   "source": [
    "# Test Model"
   ]
  },
  {
   "cell_type": "code",
   "execution_count": 167,
   "metadata": {},
   "outputs": [],
   "source": [
    "# Test model\n",
    "def test_MLP(test_loader, model):\n",
    "    sum_loss = step = 0\n",
    "    criterion = rmsle\n",
    "    predict_tensor = torch.Tensor()\n",
    "    for i, (x, y) in enumerate(test_loader):\n",
    "            step += 1\n",
    "            x = x.to(device)\n",
    "            y = y.to(device)\n",
    "            predict = model(x)\n",
    "            loss = criterion(predict, y)\n",
    "            sum_loss += loss.item()\n",
    "            avg_loss = sum_loss/step\n",
    "            predict_tensor = torch.cat((predict_tensor, predict))\n",
    "            return avg_loss, predict_tensor\n",
    "        \n",
    "loss, predict_revenue = test_MLP(test_loader, mlp)"
   ]
  },
  {
   "cell_type": "code",
   "execution_count": 168,
   "metadata": {},
   "outputs": [
    {
     "data": {
      "text/plain": [
       "3.1049513816833496"
      ]
     },
     "execution_count": 168,
     "metadata": {},
     "output_type": "execute_result"
    }
   ],
   "source": [
    "loss"
   ]
  },
  {
   "cell_type": "code",
   "execution_count": 169,
   "metadata": {},
   "outputs": [
    {
     "data": {
      "text/plain": [
       "tensor([[ 4550227.0000],\n",
       "        [ 2904787.0000],\n",
       "        [15225994.0000],\n",
       "        [11693128.0000],\n",
       "        [ 4247426.5000],\n",
       "        [10281270.0000],\n",
       "        [ 3656932.2500],\n",
       "        [ 2769466.0000],\n",
       "        [ 5247655.5000],\n",
       "        [ 3387045.5000],\n",
       "        [ 3047303.5000],\n",
       "        [ 5212796.5000],\n",
       "        [ 2637209.2500],\n",
       "        [ 3131034.5000],\n",
       "        [11327660.0000],\n",
       "        [ 9987859.0000],\n",
       "        [ 4696838.5000],\n",
       "        [ 4262682.0000],\n",
       "        [ 2984881.2500],\n",
       "        [ 3548048.7500],\n",
       "        [ 3078378.0000],\n",
       "        [10676663.0000],\n",
       "        [ 4240218.5000],\n",
       "        [ 3167784.2500],\n",
       "        [ 3645029.5000],\n",
       "        [11629955.0000],\n",
       "        [ 2517707.7500],\n",
       "        [ 6500053.5000],\n",
       "        [ 6150386.0000],\n",
       "        [ 4642499.5000],\n",
       "        [16647557.0000],\n",
       "        [ 4147846.7500],\n",
       "        [ 3124373.0000],\n",
       "        [ 3014160.7500],\n",
       "        [11672544.0000],\n",
       "        [16935570.0000],\n",
       "        [ 8903463.0000],\n",
       "        [14165683.0000],\n",
       "        [ 5286514.5000],\n",
       "        [ 2592782.7500],\n",
       "        [ 9485260.0000],\n",
       "        [ 2830307.7500],\n",
       "        [13152342.0000],\n",
       "        [14278234.0000],\n",
       "        [11496154.0000],\n",
       "        [ 3231687.5000],\n",
       "        [ 5644695.5000],\n",
       "        [ 2446719.7500],\n",
       "        [13429226.0000],\n",
       "        [11392444.0000],\n",
       "        [15815362.0000],\n",
       "        [16269264.0000],\n",
       "        [ 2604829.2500],\n",
       "        [ 8678622.0000],\n",
       "        [ 3662792.7500],\n",
       "        [ 2147286.2500],\n",
       "        [ 2354557.5000],\n",
       "        [ 3070576.5000],\n",
       "        [ 3474051.5000],\n",
       "        [ 3285183.2500],\n",
       "        [ 9148529.0000],\n",
       "        [ 5234164.5000],\n",
       "        [ 2408915.7500],\n",
       "        [ 4483094.5000],\n",
       "        [ 5553522.0000],\n",
       "        [ 2195109.2500],\n",
       "        [ 5766829.5000],\n",
       "        [ 1818437.6250],\n",
       "        [ 6308523.0000],\n",
       "        [11066592.0000],\n",
       "        [ 3000317.2500],\n",
       "        [ 5065148.5000],\n",
       "        [ 4890820.5000],\n",
       "        [ 8530576.0000],\n",
       "        [13391152.0000],\n",
       "        [ 9118318.0000],\n",
       "        [ 2617824.2500],\n",
       "        [ 3167865.2500],\n",
       "        [ 5388411.5000],\n",
       "        [ 8781105.0000],\n",
       "        [ 4514526.0000],\n",
       "        [ 6258493.0000],\n",
       "        [ 3444029.7500],\n",
       "        [ 5590704.5000],\n",
       "        [ 9322919.0000],\n",
       "        [ 3038563.2500],\n",
       "        [ 3836411.7500],\n",
       "        [ 4043036.2500],\n",
       "        [11698936.0000],\n",
       "        [ 3874044.2500],\n",
       "        [ 3571130.0000],\n",
       "        [ 3924291.7500],\n",
       "        [ 2884075.7500],\n",
       "        [ 5033811.5000],\n",
       "        [ 3841176.2500],\n",
       "        [ 3377310.2500],\n",
       "        [14311252.0000],\n",
       "        [ 2961783.2500],\n",
       "        [ 2440420.2500],\n",
       "        [ 7378755.5000],\n",
       "        [ 4429222.5000],\n",
       "        [10233254.0000],\n",
       "        [ 2793576.7500],\n",
       "        [ 5315995.5000],\n",
       "        [16125122.0000],\n",
       "        [ 4396700.5000],\n",
       "        [ 6808503.5000],\n",
       "        [ 4313020.5000],\n",
       "        [17979996.0000],\n",
       "        [12632374.0000],\n",
       "        [ 4509179.5000],\n",
       "        [ 4971156.0000],\n",
       "        [ 4332816.5000],\n",
       "        [ 8441873.0000],\n",
       "        [10997868.0000],\n",
       "        [ 7396805.5000],\n",
       "        [ 3415324.7500],\n",
       "        [ 4387073.5000],\n",
       "        [ 2426115.5000],\n",
       "        [ 3376116.0000],\n",
       "        [ 4055206.7500],\n",
       "        [ 6103169.5000],\n",
       "        [ 3017634.5000],\n",
       "        [ 5623205.0000],\n",
       "        [ 3015667.2500],\n",
       "        [ 7824239.0000],\n",
       "        [11726865.0000],\n",
       "        [ 2919335.7500]], grad_fn=<CatBackward>)"
      ]
     },
     "execution_count": 169,
     "metadata": {},
     "output_type": "execute_result"
    }
   ],
   "source": [
    "predict_revenue"
   ]
  },
  {
   "cell_type": "code",
   "execution_count": null,
   "metadata": {},
   "outputs": [],
   "source": []
  }
 ],
 "metadata": {
  "kernelspec": {
   "display_name": "Python 3",
   "language": "python",
   "name": "python3"
  },
  "language_info": {
   "codemirror_mode": {
    "name": "ipython",
    "version": 3
   },
   "file_extension": ".py",
   "mimetype": "text/x-python",
   "name": "python",
   "nbconvert_exporter": "python",
   "pygments_lexer": "ipython3",
   "version": "3.6.8"
  }
 },
 "nbformat": 4,
 "nbformat_minor": 2
}
