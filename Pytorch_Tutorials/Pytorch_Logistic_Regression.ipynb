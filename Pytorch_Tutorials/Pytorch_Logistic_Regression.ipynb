{
 "cells": [
  {
   "cell_type": "code",
   "execution_count": 32,
   "metadata": {},
   "outputs": [],
   "source": [
    "import torch as t\n",
    "import torch.nn as nn\n",
    "import torchvision\n",
    "import torchvision.transforms as transforms"
   ]
  },
  {
   "cell_type": "code",
   "execution_count": 40,
   "metadata": {},
   "outputs": [],
   "source": [
    "input_size = 784 #(28x28)\n",
    "num_classes = 10\n",
    "learning_rate = 0.01\n",
    "num_epochs = 5\n",
    "batch_size = 64"
   ]
  },
  {
   "cell_type": "code",
   "execution_count": 34,
   "metadata": {},
   "outputs": [],
   "source": [
    "train_dataset = torchvision.datasets.MNIST(root='../../data', \n",
    "                                           train=True,\n",
    "                                           download = True,\n",
    "                                           transform=transforms.ToTensor()\n",
    "                                          )"
   ]
  },
  {
   "cell_type": "code",
   "execution_count": 35,
   "metadata": {},
   "outputs": [],
   "source": [
    "test_dataset = torchvision.datasets.MNIST(root='../../data', \n",
    "                                           train=False,\n",
    "                                           transform=transforms.ToTensor()\n",
    "                                          )"
   ]
  },
  {
   "cell_type": "code",
   "execution_count": 36,
   "metadata": {},
   "outputs": [],
   "source": [
    "train_loader = t.utils.data.DataLoader(dataset=train_dataset,\n",
    "                                       batch_size=batch_size,\n",
    "                                      shuffle=True)\n",
    "test_loader = t.utils.data.DataLoader(dataset=test_dataset,\n",
    "                                       batch_size=batch_size,\n",
    "                                      shuffle=True)"
   ]
  },
  {
   "cell_type": "code",
   "execution_count": 37,
   "metadata": {},
   "outputs": [
    {
     "data": {
      "text/plain": [
       "torch.Size([1, 28, 28])"
      ]
     },
     "execution_count": 37,
     "metadata": {},
     "output_type": "execute_result"
    }
   ],
   "source": [
    "img, label = train_dataset[0]\n",
    "img.size()"
   ]
  },
  {
   "cell_type": "code",
   "execution_count": 43,
   "metadata": {},
   "outputs": [],
   "source": [
    "# Logistic regression Model\n",
    "LR = nn.Linear(input_size, num_classes)\n",
    "\n",
    "# Build loss function and optimizer.\n",
    "# nn.CrossEntropyLoss() computes softmax internally\n",
    "criterion = nn.CrossEntropyLoss()\n",
    "optimizer = t.optim.Adam(LR.parameters(), lr=learning_rate)"
   ]
  },
  {
   "cell_type": "code",
   "execution_count": 46,
   "metadata": {
    "collapsed": true
   },
   "outputs": [
    {
     "name": "stdout",
     "output_type": "stream",
     "text": [
      "Epoch [1/5], Step [100/938], Loss: 0.3240\n",
      "Epoch [1/5], Step [200/938], Loss: 0.2016\n",
      "Epoch [1/5], Step [300/938], Loss: 0.3981\n",
      "Epoch [1/5], Step [400/938], Loss: 0.5265\n",
      "Epoch [1/5], Step [500/938], Loss: 0.2564\n",
      "Epoch [1/5], Step [600/938], Loss: 0.4470\n",
      "Epoch [1/5], Step [700/938], Loss: 0.1353\n",
      "Epoch [1/5], Step [800/938], Loss: 0.3691\n",
      "Epoch [1/5], Step [900/938], Loss: 0.3272\n",
      "Epoch [2/5], Step [100/938], Loss: 0.1925\n",
      "Epoch [2/5], Step [200/938], Loss: 0.2320\n",
      "Epoch [2/5], Step [300/938], Loss: 0.2487\n",
      "Epoch [2/5], Step [400/938], Loss: 0.3751\n",
      "Epoch [2/5], Step [500/938], Loss: 0.2439\n",
      "Epoch [2/5], Step [600/938], Loss: 0.1735\n",
      "Epoch [2/5], Step [700/938], Loss: 0.1891\n",
      "Epoch [2/5], Step [800/938], Loss: 0.3309\n",
      "Epoch [2/5], Step [900/938], Loss: 0.2251\n",
      "Epoch [3/5], Step [100/938], Loss: 0.2195\n",
      "Epoch [3/5], Step [200/938], Loss: 0.3936\n",
      "Epoch [3/5], Step [300/938], Loss: 0.1241\n",
      "Epoch [3/5], Step [400/938], Loss: 0.2852\n",
      "Epoch [3/5], Step [500/938], Loss: 0.3356\n",
      "Epoch [3/5], Step [600/938], Loss: 0.1339\n",
      "Epoch [3/5], Step [700/938], Loss: 0.1517\n",
      "Epoch [3/5], Step [800/938], Loss: 0.1433\n",
      "Epoch [3/5], Step [900/938], Loss: 0.1975\n",
      "Epoch [4/5], Step [100/938], Loss: 0.5779\n",
      "Epoch [4/5], Step [200/938], Loss: 0.0543\n",
      "Epoch [4/5], Step [300/938], Loss: 0.5280\n",
      "Epoch [4/5], Step [400/938], Loss: 0.1556\n",
      "Epoch [4/5], Step [500/938], Loss: 0.1862\n",
      "Epoch [4/5], Step [600/938], Loss: 0.4130\n",
      "Epoch [4/5], Step [700/938], Loss: 0.2322\n",
      "Epoch [4/5], Step [800/938], Loss: 0.2975\n",
      "Epoch [4/5], Step [900/938], Loss: 0.2108\n",
      "Epoch [5/5], Step [100/938], Loss: 0.2059\n",
      "Epoch [5/5], Step [200/938], Loss: 0.1410\n",
      "Epoch [5/5], Step [300/938], Loss: 0.3966\n",
      "Epoch [5/5], Step [400/938], Loss: 0.4336\n",
      "Epoch [5/5], Step [500/938], Loss: 0.2126\n",
      "Epoch [5/5], Step [600/938], Loss: 0.3424\n",
      "Epoch [5/5], Step [700/938], Loss: 0.1951\n",
      "Epoch [5/5], Step [800/938], Loss: 0.5074\n",
      "Epoch [5/5], Step [900/938], Loss: 0.1104\n"
     ]
    }
   ],
   "source": [
    "# Train the model\n",
    "total_step = len(train_loader)\n",
    "for epoch in range(num_epochs):\n",
    "    for i, (images,labels) in enumerate(train_loader):\n",
    "        # reshape images to batch size, (64,1,28,28) -> (64,784)\n",
    "        images = images.reshape(-1, 28*28)\n",
    "        \n",
    "        # forwardpass\n",
    "        pred = LR(images)\n",
    "        \n",
    "        # Compute loss and optimize\n",
    "        loss = criterion(pred, labels)\n",
    "        optimizer.zero_grad() # Set grads= 0 for a new pass to avoid accumulation of gradients\n",
    "        \n",
    "        # backwardpass\n",
    "        loss.backward() # Compute gradients\n",
    "        optimizer.step() # Updates parameters\n",
    "        \n",
    "        if (i+1) % 100 == 0:\n",
    "            print ('Epoch [{}/{}], Step [{}/{}], Loss: {:.4f}'.format(epoch+1, num_epochs, i+1, total_step, loss.item()))"
   ]
  },
  {
   "cell_type": "code",
   "execution_count": 50,
   "metadata": {},
   "outputs": [
    {
     "name": "stdout",
     "output_type": "stream",
     "text": [
      "Accuracy of the model on the 10000 test images: 91 %\n"
     ]
    }
   ],
   "source": [
    "# Test the model\n",
    "# In test phase, we don't need to compute gradients (for memory efficiency)\n",
    "with t.no_grad():\n",
    "    total = correct = 0\n",
    "    for i, (images, labels) in enumerate(test_loader):\n",
    "        images = images.reshape(-1, 28*28)\n",
    "        pred = LR(images)\n",
    "        _, predicted = t.max(pred.data, 1)\n",
    "        total += labels.size(0)\n",
    "        correct += (predicted==labels).sum()\n",
    "    \n",
    "print('Accuracy of the model on the 10000 test images: {} %'.format(100 * correct / total))\n"
   ]
  },
  {
   "cell_type": "code",
   "execution_count": 52,
   "metadata": {},
   "outputs": [],
   "source": [
    "# save model\n",
    "t.save(LR.state_dict(), \"LR_MNIST.ckpt\")"
   ]
  }
 ],
 "metadata": {
  "kernelspec": {
   "display_name": "Python 3",
   "language": "python",
   "name": "python3"
  },
  "language_info": {
   "codemirror_mode": {
    "name": "ipython",
    "version": 3
   },
   "file_extension": ".py",
   "mimetype": "text/x-python",
   "name": "python",
   "nbconvert_exporter": "python",
   "pygments_lexer": "ipython3",
   "version": "3.6.5"
  }
 },
 "nbformat": 4,
 "nbformat_minor": 2
}
