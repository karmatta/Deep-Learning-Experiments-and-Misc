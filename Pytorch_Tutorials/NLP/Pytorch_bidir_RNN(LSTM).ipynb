{
 "cells": [
  {
   "cell_type": "code",
   "execution_count": 2,
   "metadata": {},
   "outputs": [],
   "source": [
    "import torch\n",
    "import torchvision\n",
    "import torch.nn as nn\n",
    "import torchvision.transforms as transforms"
   ]
  },
  {
   "cell_type": "code",
   "execution_count": 3,
   "metadata": {},
   "outputs": [],
   "source": [
    "device = torch.device(\"cuda\" if torch.cuda.is_available() else \"cpu\")"
   ]
  },
  {
   "cell_type": "code",
   "execution_count": 4,
   "metadata": {},
   "outputs": [],
   "source": [
    "sequence_length = 28\n",
    "num_layers = 2\n",
    "input_size = 28\n",
    "hidden_size = 128\n",
    "num_classes = 10\n",
    "batch_size = 100\n",
    "learning_rate = 0.01\n",
    "num_epochs = 5"
   ]
  },
  {
   "cell_type": "code",
   "execution_count": 5,
   "metadata": {},
   "outputs": [],
   "source": [
    "train_data = torchvision.datasets.MNIST(root=\"../../data/\",\n",
    "                                       download=True,\n",
    "                                        train=True,\n",
    "                                       transform=transforms.ToTensor())\n",
    "test_data = torchvision.datasets.MNIST(root=\"../../data/\",\n",
    "                                        train=False,\n",
    "                                       transform=transforms.ToTensor())"
   ]
  },
  {
   "cell_type": "code",
   "execution_count": 6,
   "metadata": {},
   "outputs": [],
   "source": [
    "train_loader = torch.utils.data.DataLoader(dataset=train_data,\n",
    "                                          shuffle=True,\n",
    "                                          batch_size=batch_size)\n",
    "test_loader = torch.utils.data.DataLoader(dataset=test_data,\n",
    "                                         shuffle=True,\n",
    "                                         batch_size=batch_size)"
   ]
  },
  {
   "cell_type": "code",
   "execution_count": 17,
   "metadata": {},
   "outputs": [],
   "source": [
    "# build a BiRNN\n",
    "\n",
    "class BiRNN(nn.Module):\n",
    "    \n",
    "    def __init__(self, input_size, hidden_size, num_layers, num_classes):\n",
    "        super(BiRNN, self).__init__()\n",
    "        \n",
    "        self.hidden_size = hidden_size\n",
    "        self.num_layers = num_layers\n",
    "        self.input_size = input_size\n",
    "        self.BiLSTM = nn.LSTM(input_size, hidden_size, num_layers, batch_first=True, bidirectional=True)\n",
    "        self.fc = nn.Linear(hidden_size*2, num_classes) # 2 for bidirection\n",
    "        \n",
    "    def forward(self, x):\n",
    "        # Set initial states\n",
    "        h0 = torch.zeros(self.num_layers*2, x.size(0), self.hidden_size).to(device)\n",
    "        c0 = torch.zeros(self.num_layers*2, x.size(0), self.hidden_size).to(device)\n",
    "        \n",
    "        out, _ = self.BiLSTM(x, (h0, c0))\n",
    "        out = out[:, -1, :]\n",
    "        out = self.fc(out)\n",
    "        \n",
    "        return(out)"
   ]
  },
  {
   "cell_type": "code",
   "execution_count": 18,
   "metadata": {},
   "outputs": [],
   "source": [
    "model = BiRNN(input_size, hidden_size, num_layers, num_classes).to(device)\n",
    "criterion = nn.CrossEntropyLoss()\n",
    "optimizer = torch.optim.Adam(model.parameters(), lr=learning_rate)"
   ]
  },
  {
   "cell_type": "code",
   "execution_count": 19,
   "metadata": {
    "collapsed": true
   },
   "outputs": [
    {
     "name": "stdout",
     "output_type": "stream",
     "text": [
      "Epoch [1/5], Step [100/600], Loss: 0.5933\n",
      "Epoch [1/5], Step [200/600], Loss: 0.2748\n",
      "Epoch [1/5], Step [300/600], Loss: 0.3085\n",
      "Epoch [1/5], Step [400/600], Loss: 0.1358\n",
      "Epoch [1/5], Step [500/600], Loss: 0.1866\n",
      "Epoch [1/5], Step [600/600], Loss: 0.1896\n",
      "Epoch [2/5], Step [100/600], Loss: 0.1135\n",
      "Epoch [2/5], Step [200/600], Loss: 0.1061\n",
      "Epoch [2/5], Step [300/600], Loss: 0.1286\n",
      "Epoch [2/5], Step [400/600], Loss: 0.0782\n",
      "Epoch [2/5], Step [500/600], Loss: 0.0483\n",
      "Epoch [2/5], Step [600/600], Loss: 0.1402\n",
      "Epoch [3/5], Step [100/600], Loss: 0.1559\n",
      "Epoch [3/5], Step [200/600], Loss: 0.0478\n",
      "Epoch [3/5], Step [300/600], Loss: 0.0537\n",
      "Epoch [3/5], Step [400/600], Loss: 0.0739\n",
      "Epoch [3/5], Step [500/600], Loss: 0.0570\n",
      "Epoch [3/5], Step [600/600], Loss: 0.0987\n",
      "Epoch [4/5], Step [100/600], Loss: 0.0204\n",
      "Epoch [4/5], Step [200/600], Loss: 0.0138\n",
      "Epoch [4/5], Step [300/600], Loss: 0.0516\n",
      "Epoch [4/5], Step [400/600], Loss: 0.0430\n",
      "Epoch [4/5], Step [500/600], Loss: 0.0413\n",
      "Epoch [4/5], Step [600/600], Loss: 0.1166\n",
      "Epoch [5/5], Step [100/600], Loss: 0.0244\n",
      "Epoch [5/5], Step [200/600], Loss: 0.0633\n",
      "Epoch [5/5], Step [300/600], Loss: 0.2180\n",
      "Epoch [5/5], Step [400/600], Loss: 0.0156\n",
      "Epoch [5/5], Step [500/600], Loss: 0.0026\n",
      "Epoch [5/5], Step [600/600], Loss: 0.0270\n"
     ]
    }
   ],
   "source": [
    "# Train Model\n",
    "\n",
    "total_step = len(train_loader)\n",
    "for epoch in range(num_epochs):\n",
    "    for i, (images, labels) in enumerate(train_loader):\n",
    "        images = images.reshape(-1, sequence_length, input_size).to(device)\n",
    "        labels = labels.to(device)\n",
    "        \n",
    "        output = model(images)\n",
    "        loss = criterion(output, labels)\n",
    "        \n",
    "        # Backprop\n",
    "        optimizer.zero_grad()\n",
    "        loss.backward()\n",
    "        optimizer.step()\n",
    "        \n",
    "        if (i+1) % 100 == 0:\n",
    "            print ('Epoch [{}/{}], Step [{}/{}], Loss: {:.4f}'.format(epoch+1, num_epochs, i+1, total_step, loss.item()))"
   ]
  },
  {
   "cell_type": "code",
   "execution_count": 22,
   "metadata": {},
   "outputs": [
    {
     "name": "stdout",
     "output_type": "stream",
     "text": [
      "Test Accuracy of the model on the 10000 test images: 97.69 %\n"
     ]
    }
   ],
   "source": [
    "# Test model\n",
    "\n",
    "with torch.no_grad():\n",
    "    total = correct = 0\n",
    "    \n",
    "    for i, (images, labels) in enumerate(test_loader):\n",
    "        \n",
    "        images = images.reshape(-1, sequence_length, input_size).to(device)\n",
    "        labels = labels.to(device)\n",
    "        \n",
    "        outputs = model(images)\n",
    "        _, predicted = torch.max(outputs.data, 1)\n",
    "        \n",
    "        total += labels.size(0)\n",
    "        correct += (predicted == labels).sum(0).item()\n",
    "        \n",
    "print('Test Accuracy of the model on the 10000 test images: {} %'.format(100 * correct / total)) "
   ]
  },
  {
   "cell_type": "code",
   "execution_count": null,
   "metadata": {},
   "outputs": [],
   "source": [
    "torch.save(model.state_dict() ,\"BiRNN.ckpt\")"
   ]
  }
 ],
 "metadata": {
  "kernelspec": {
   "display_name": "Python 3",
   "language": "python",
   "name": "python3"
  },
  "language_info": {
   "codemirror_mode": {
    "name": "ipython",
    "version": 3
   },
   "file_extension": ".py",
   "mimetype": "text/x-python",
   "name": "python",
   "nbconvert_exporter": "python",
   "pygments_lexer": "ipython3",
   "version": "3.6.5"
  }
 },
 "nbformat": 4,
 "nbformat_minor": 2
}
